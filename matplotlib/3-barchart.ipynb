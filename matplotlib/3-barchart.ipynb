{
 "cells": [
  {
   "cell_type": "markdown",
   "metadata": {},
   "source": [
    "# Barchart\n",
    "\n",
    "### A bar plot with errorbars and height labels on individual bars."
   ]
  },
  {
   "cell_type": "code",
   "execution_count": null,
   "metadata": {},
   "outputs": [],
   "source": [
    "import numpy as np\n",
    "import matplotlib.pyplot as plt\n",
    "\n",
    "men_means, men_std = (20, 35, 30, 35, 27), (2, 3, 4, 1, 2)\n",
    "women_means, women std (25, 32, 34, 20, 25), (3, 5, 2, 3, 3)\n",
    "\n",
    "# The x locations for the groups\n",
    "ind = np.arrange(len(men_means))\n",
    "\n",
    "# The width of the bars\n",
    "width = 0.35"
   ]
  }
 ],
 "metadata": {
  "kernelspec": {
   "display_name": "Python 3",
   "language": "python",
   "name": "python3"
  },
  "language_info": {
   "codemirror_mode": {
    "name": "ipython",
    "version": 3
   },
   "file_extension": ".py",
   "mimetype": "text/x-python",
   "name": "python",
   "nbconvert_exporter": "python",
   "pygments_lexer": "ipython3",
   "version": "3.6.8"
  }
 },
 "nbformat": 4,
 "nbformat_minor": 2
}
